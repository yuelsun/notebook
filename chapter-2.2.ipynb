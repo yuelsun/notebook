{
 "cells": [
  {
   "cell_type": "code",
   "execution_count": null,
   "metadata": {},
   "outputs": [],
   "source": [
    "# 在某运行平台下\n",
    "def algorithm(n: int):\n",
    "    a = 2  # 1 ns\n",
    "    a = a + 1  # 1 ns\n",
    "    a = a * 2  # 10 ns\n",
    "    # 循环 n 次\n",
    "    for _ in range(n):  # 1 ns\n",
    "        print(0)  # 5 ns"
   ]
  },
  {
   "cell_type": "code",
   "execution_count": null,
   "metadata": {},
   "outputs": [],
   "source": [
    "# 算法 A 的时间复杂度：常数阶\n",
    "def algorithm_A(n: int):\n",
    "    print(0)\n",
    "\n",
    "\n",
    "# 算法 B 的时间复杂度：线性阶\n",
    "def algorithm_B(n: int):\n",
    "    for _ in range(n):\n",
    "        print(0)\n",
    "\n",
    "\n",
    "# 算法 C 的时间复杂度：常数阶\n",
    "def algorithm_C(n: int):\n",
    "    for _ in range(1000000):\n",
    "        print(0)"
   ]
  },
  {
   "cell_type": "code",
   "execution_count": null,
   "metadata": {},
   "outputs": [],
   "source": [
    "def algorithm(n: int):\n",
    "    a = 1  # +1\n",
    "    a = a + 1  # +1\n",
    "    a = a * 2  # +1\n",
    "    # 循环 n 次\n",
    "    for i in range(n):  # +1\n",
    "        print(0)  # +1"
   ]
  },
  {
   "cell_type": "code",
   "execution_count": null,
   "metadata": {},
   "outputs": [],
   "source": [
    "def algorithm(n: int):\n",
    "    a = 1  # +0（技巧 1）\n",
    "    a = a + n  # +0（技巧 1）\n",
    "    # +n（技巧 2）\n",
    "    for i in range(5 * n + 1):\n",
    "        print(0)\n",
    "    # +n*n（技巧 3）\n",
    "    for i in range(2 * n):\n",
    "        for j in range(n + 1):\n",
    "            print(0)\n",
    "    # n^2 + n"
   ]
  },
  {
   "cell_type": "markdown",
   "metadata": {},
   "source": [
    "- 常数阶 O(1)\n",
    "- 线性阶 O(n)\n",
    "- 对数阶 O(logn)\n",
    "- 线性对数阶 O(nlogn)\n",
    "- 平方阶 O(n^2)\n",
    "- 立方阶 O(n^3)\n",
    "- K 次方阶 O(n^k)\n",
    "- 指数阶 O(2^n)"
   ]
  },
  {
   "cell_type": "code",
   "execution_count": 4,
   "metadata": {},
   "outputs": [],
   "source": [
    "def constant(n: int) -> int:\n",
    "    \"\"\"常数阶\"\"\"\n",
    "    count = 0\n",
    "    size = 100000\n",
    "    for _ in range(size):\n",
    "        count += 1\n",
    "    return count"
   ]
  },
  {
   "cell_type": "code",
   "execution_count": 6,
   "metadata": {},
   "outputs": [],
   "source": [
    "def linear(n: int) -> int:\n",
    "    \"\"\"线性阶\"\"\"\n",
    "    count = 0\n",
    "    for _ in range(n):\n",
    "        count += 1\n",
    "    return count\n",
    "\n",
    "\n",
    "def array_traversal(nums: list[int]) -> int:\n",
    "    \"\"\"线性阶（遍历数组）\"\"\"\n",
    "    count = 0\n",
    "    # 循环次数与数组长度成正比\n",
    "    for num in nums:\n",
    "        count += 1\n",
    "    return count"
   ]
  },
  {
   "cell_type": "code",
   "execution_count": 7,
   "metadata": {},
   "outputs": [],
   "source": [
    "def quadratic(n: int) -> int:\n",
    "    \"\"\"平方阶\"\"\"\n",
    "    count = 0\n",
    "    # 循环次数与数据大小 n 成平方关系\n",
    "    for i in range(n):\n",
    "        for j in range(n):\n",
    "            count += 1\n",
    "    return count\n",
    "\n",
    "\n",
    "def bubble_sort(nums: list[int]) -> int:\n",
    "    \"\"\"平方阶（冒泡排序）\"\"\"\n",
    "    count = 0  # 计数器\n",
    "    # 外循环：未排序区间为 [0, i]\n",
    "    for i in range(len(nums) - 1, 0, -1):\n",
    "        # 内循环：将未排序区间 [0, i] 中的最大元素交换至该区间的最右端\n",
    "        for j in range(i):\n",
    "            if nums[j] > nums[j + 1]:\n",
    "                # 交换 nums[j] 与 nums[j + 1]\n",
    "                tmp: int = nums[j]\n",
    "                nums[j] = nums[j + 1]\n",
    "                nums[j + 1] = tmp\n",
    "                count += 3  # 元素交换包含 3 个单元操作\n",
    "    return count"
   ]
  },
  {
   "cell_type": "code",
   "execution_count": null,
   "metadata": {},
   "outputs": [],
   "source": [
    "def exponential(n: int) -> int:\n",
    "    \"\"\"指数阶（循环实现）\"\"\"\n",
    "    count = 0\n",
    "    base = 1\n",
    "    # 细胞每轮一分为二，形成数列 1, 2, 4, 8, ..., 2^(n-1)\n",
    "    for _ in range(n):\n",
    "        for _ in range(base):\n",
    "            count += 1\n",
    "        base *= 2\n",
    "    # count = 1 + 2 + 4 + 8 + .. + 2^(n-1) = 2^n - 1\n",
    "    return count"
   ]
  },
  {
   "cell_type": "code",
   "execution_count": null,
   "metadata": {},
   "outputs": [],
   "source": [
    "def exp_recur(n: int) -> int:\n",
    "    \"\"\"指数阶（递归实现）\"\"\"\n",
    "    if n == 1:\n",
    "        return 1\n",
    "    return exp_recur(n - 1) + exp_recur(n - 1) + 1"
   ]
  },
  {
   "cell_type": "markdown",
   "metadata": {},
   "source": [
    "```python\n",
    "# 伪代码 for exp_recur(n)\n",
    "exp_recur(3) = exp_recur(2) + exp_recur(2) + 1\n",
    "             = (exp_recur(1) + exp_recur(1) + 1) + (exp_recur(1) + exp_recur(1) + 1) + 1\n",
    "             = (1 + 1 + 1) + (1 + 1 + 1) + 1\n",
    "             = 3 + 3 + 1\n",
    "             = 7\n",
    "```"
   ]
  },
  {
   "cell_type": "code",
   "execution_count": null,
   "metadata": {},
   "outputs": [],
   "source": [
    "def logarithmic(n: int) -> int:\n",
    "    \"\"\"对数阶（循环实现）\"\"\"\n",
    "    count = 0\n",
    "    while n > 1:\n",
    "        n = n / 2\n",
    "        count += 1\n",
    "    return count"
   ]
  },
  {
   "cell_type": "code",
   "execution_count": null,
   "metadata": {},
   "outputs": [],
   "source": [
    "def log_recur(n: int) -> int:\n",
    "    \"\"\"对数阶（递归实现）\"\"\"\n",
    "    if n <= 1:\n",
    "        return 0\n",
    "    return log_recur(n / 2) + 1"
   ]
  },
  {
   "cell_type": "markdown",
   "metadata": {},
   "source": [
    "```python\n",
    "\n",
    "```"
   ]
  },
  {
   "cell_type": "code",
   "execution_count": 10,
   "metadata": {},
   "outputs": [],
   "source": [
    "def linear_log_recur(n: int) -> int:\n",
    "    \"\"\"线性对数阶\"\"\"\n",
    "    if n <= 1:\n",
    "        return 1\n",
    "    # 一分为二，子问题的规模减小一半\n",
    "    count = linear_log_recur(n // 2) + linear_log_recur(n // 2)\n",
    "    # 当前子问题包含 n 个操作\n",
    "    for _ in range(n):\n",
    "        count += 1\n",
    "    return count"
   ]
  },
  {
   "cell_type": "code",
   "execution_count": 11,
   "metadata": {},
   "outputs": [],
   "source": [
    "def factorial_recur(n: int) -> int:\n",
    "    \"\"\"阶乘阶（递归实现）\"\"\"\n",
    "    if n == 0:\n",
    "        return 1\n",
    "    count = 0\n",
    "    # 从 1 个分裂出 n 个\n",
    "    for _ in range(n):\n",
    "        count += factorial_recur(n - 1)\n",
    "    return count"
   ]
  }
 ],
 "metadata": {
  "kernelspec": {
   "display_name": ".venv",
   "language": "python",
   "name": "python3"
  },
  "language_info": {
   "codemirror_mode": {
    "name": "ipython",
    "version": 3
   },
   "file_extension": ".py",
   "mimetype": "text/x-python",
   "name": "python",
   "nbconvert_exporter": "python",
   "pygments_lexer": "ipython3",
   "version": "3.13.1"
  }
 },
 "nbformat": 4,
 "nbformat_minor": 2
}
